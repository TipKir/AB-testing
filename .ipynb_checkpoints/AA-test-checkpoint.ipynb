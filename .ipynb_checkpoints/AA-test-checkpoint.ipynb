{
 "cells": [
  {
   "cell_type": "markdown",
   "id": "6d9ba8e2-5e58-4a92-9da4-48636a27f98a",
   "metadata": {},
   "source": [
    "## Проверка системы сплитования\n",
    "\n",
    "У нас есть данные АА-теста с '2023-04-24' по '2023-04-30'. \n",
    "\n",
    "\n",
    "Сделаем симуляцию, как будто провели 10000 АА-тестов. На каждой итерации сформируем подвыборки без повторения в 500 юзеров из 2 и 3 экспериментальной группы. Проведем сравнение этих подвыборок t-testом.\n",
    "\n",
    "1. Построим гистограмму распределения получившихся 10000 p-values.\n",
    "\n",
    "2. Посчитаем, какой процент p values оказался меньше либо равен 0.05\n",
    "\n",
    "3. Сформулируем вывод по проведенному АА-тесту, корректно ли работает наша система сплитования."
   ]
  },
  {
   "cell_type": "code",
   "execution_count": 1,
   "id": "c9ff7df9-ea98-427c-8ca6-3bd058866ebf",
   "metadata": {},
   "outputs": [],
   "source": [
    "import pandas as pd\n",
    "import matplotlib.pyplot as plt\n",
    "import matplotlib.dates as mdates\n",
    "import seaborn as sns\n",
    "import os\n",
    "from scipy import stats\n",
    "import plotly.express as px\n",
    "import numpy as np\n",
    "from scipy import stats\n",
    "import datetime\n",
    "from datetime import timedelta\n",
    "from datetime import datetime as dt\n",
    "import requests\n",
    "from urllib.parse import urlencode\n",
    "from tqdm.auto import tqdm\n",
    "from scipy.stats import norm\n",
    "import pandahouse as ph"
   ]
  },
  {
   "cell_type": "code",
   "execution_count": 2,
   "id": "fec8b6a6-9ef0-472f-9218-d16b2610c085",
   "metadata": {},
   "outputs": [],
   "source": [
    "#выставим настройки графика\n",
    "sns.set(\n",
    "    font_scale=1,\n",
    "    style=\"whitegrid\",\n",
    "    rc={'figure.figsize':(20,7)}\n",
    "        )"
   ]
  },
  {
   "cell_type": "code",
   "execution_count": 3,
   "id": "daddced4-2437-4028-881f-e7c47cafc075",
   "metadata": {},
   "outputs": [],
   "source": [
    "#создаем подключение\n",
    "connection = {'host': 'https://clickhouse.lab.karpov.courses',\n",
    "                      'database':'simulator_20230520',\n",
    "                      'user':'student', \n",
    "                      'password':'dpo_python_2020'\n",
    "                     }"
   ]
  },
  {
   "cell_type": "code",
   "execution_count": 4,
   "id": "4ddf8f69-8e93-4629-b61a-44416416f011",
   "metadata": {},
   "outputs": [
    {
     "data": {
      "text/html": [
       "<div>\n",
       "<style scoped>\n",
       "    .dataframe tbody tr th:only-of-type {\n",
       "        vertical-align: middle;\n",
       "    }\n",
       "\n",
       "    .dataframe tbody tr th {\n",
       "        vertical-align: top;\n",
       "    }\n",
       "\n",
       "    .dataframe thead th {\n",
       "        text-align: right;\n",
       "    }\n",
       "</style>\n",
       "<table border=\"1\" class=\"dataframe\">\n",
       "  <thead>\n",
       "    <tr style=\"text-align: right;\">\n",
       "      <th></th>\n",
       "      <th>user_id</th>\n",
       "      <th>likes</th>\n",
       "      <th>views</th>\n",
       "      <th>ctr</th>\n",
       "    </tr>\n",
       "    <tr>\n",
       "      <th>exp_group</th>\n",
       "      <th></th>\n",
       "      <th></th>\n",
       "      <th></th>\n",
       "      <th></th>\n",
       "    </tr>\n",
       "  </thead>\n",
       "  <tbody>\n",
       "    <tr>\n",
       "      <th>2</th>\n",
       "      <td>8480</td>\n",
       "      <td>8480</td>\n",
       "      <td>8480</td>\n",
       "      <td>8480</td>\n",
       "    </tr>\n",
       "    <tr>\n",
       "      <th>3</th>\n",
       "      <td>8569</td>\n",
       "      <td>8569</td>\n",
       "      <td>8569</td>\n",
       "      <td>8569</td>\n",
       "    </tr>\n",
       "  </tbody>\n",
       "</table>\n",
       "</div>"
      ],
      "text/plain": [
       "           user_id  likes  views   ctr\n",
       "exp_group                             \n",
       "2             8480   8480   8480  8480\n",
       "3             8569   8569   8569  8569"
      ]
     },
     "execution_count": 4,
     "metadata": {},
     "output_type": "execute_result"
    }
   ],
   "source": [
    "#делаем выгрузку\n",
    "q = \"\"\"\n",
    "SELECT exp_group, \n",
    "    user_id,\n",
    "    sum(action = 'like') as likes,\n",
    "    sum(action = 'view') as views,\n",
    "    likes/views as ctr\n",
    "FROM {db}.feed_actions \n",
    "WHERE toDate(time) between '2023-04-24' and '2023-04-30'\n",
    "    and exp_group in (2,3)\n",
    "GROUP BY exp_group, user_id\n",
    "\"\"\"\n",
    "\n",
    "df = ph.read_clickhouse(q, connection=connection)\n",
    "\n",
    "df.groupby('exp_group').count()"
   ]
  },
  {
   "cell_type": "code",
   "execution_count": 5,
   "id": "b8ea5730-3b4a-450c-affb-f8a125de290c",
   "metadata": {},
   "outputs": [
    {
     "name": "stdout",
     "output_type": "stream",
     "text": [
      "MannwhitneyuResult(statistic=36124728.5, pvalue=0.5177480614337441)\n"
     ]
    }
   ],
   "source": [
    "#проверяем ctr выборок критерием Манна-Уитни\n",
    "print(stats.mannwhitneyu(df[df.exp_group == 2].ctr,\n",
    "                df[df.exp_group == 3].ctr))"
   ]
  },
  {
   "cell_type": "code",
   "execution_count": 6,
   "id": "1a1a3078-5d5c-4121-8106-67f60a570020",
   "metadata": {},
   "outputs": [
    {
     "data": {
      "text/plain": [
       "0.45969873156476293"
      ]
     },
     "execution_count": 6,
     "metadata": {},
     "output_type": "execute_result"
    }
   ],
   "source": [
    "#t-test\n",
    "stats.ttest_ind(df[df.exp_group == 2].ctr,\n",
    "                df[df.exp_group == 3].ctr, equal_var=False).pvalue"
   ]
  },
  {
   "cell_type": "code",
   "execution_count": 7,
   "id": "2260a257-7951-44c3-9587-90e87a84867a",
   "metadata": {},
   "outputs": [],
   "source": [
    "sums = [stats.ttest_ind(df[df.exp_group == 2].ctr.sample(500), df[df.exp_group == 3].ctr.sample(500), equal_var=False).pvalue for _ in range(10000)]"
   ]
  },
  {
   "cell_type": "code",
   "execution_count": 8,
   "id": "42428089-b722-4fe2-8ba3-9ea8bb14c6d1",
   "metadata": {},
   "outputs": [
    {
     "data": {
      "text/plain": [
       "<AxesSubplot:ylabel='Count'>"
      ]
     },
     "execution_count": 8,
     "metadata": {},
     "output_type": "execute_result"
    },
    {
     "data": {
      "image/png": "[encoded data removed]",
      "text/plain": [
       "<Figure size 1440x504 with 1 Axes>"
      ]
     },
     "metadata": {},
     "output_type": "display_data"
    }
   ],
   "source": [
    "sns.histplot(sums,bins=40)"
   ]
  },
  {
   "cell_type": "code",
   "execution_count": 12,
   "id": "ce5ee03d-91d7-4c28-b494-c65416c687a3",
   "metadata": {},
   "outputs": [],
   "source": [
    "df_pvalue = pd.DataFrame(sums, columns=['pvalue'])"
   ]
  },
  {
   "cell_type": "code",
   "execution_count": 13,
   "id": "71903ff6-b165-4514-bc91-459d27d40c91",
   "metadata": {},
   "outputs": [
    {
     "data": {
      "text/plain": [
       "pvalue    498\n",
       "dtype: int64"
      ]
     },
     "execution_count": 13,
     "metadata": {},
     "output_type": "execute_result"
    }
   ],
   "source": [
    "df_pvalue.query('pvalue < 0.05').count()"
   ]
  },
  {
   "cell_type": "code",
   "execution_count": 15,
   "id": "3f5a0943-73c5-4bb6-b969-a8b2753edca1",
   "metadata": {},
   "outputs": [
    {
     "name": "stdout",
     "output_type": "stream",
     "text": [
      "pvalue    4.98\n",
      "dtype: float64 %\n"
     ]
    }
   ],
   "source": [
    "print(df_pvalue.query('pvalue < 0.05').count()/100, '%')"
   ]
  },
  {
   "cell_type": "markdown",
   "id": "5911ee86-5b72-4d1c-8413-2dafc960bb65",
   "metadata": {},
   "source": [
    "> ## Вывод:\n",
    "    В результате анализа я выявил, что при проведении t-testа 20 раз на контрольной и тестовой группе уровень значимости pvalue < 5% только в 498 случае из 10000, а это не превышает порога значимости в 5%. Следовательно мы можем сделать вывод что система сплитования работает корректно."
   ]
  }
 ],
 "metadata": {
  "kernelspec": {
   "display_name": "Python 3 (ipykernel)",
   "language": "python",
   "name": "python3"
  },
  "language_info": {
   "codemirror_mode": {
    "name": "ipython",
    "version": 3
   },
   "file_extension": ".py",
   "mimetype": "text/x-python",
   "name": "python",
   "nbconvert_exporter": "python",
   "pygments_lexer": "ipython3",
   "version": "3.9.7"
  }
 },
 "nbformat": 4,
 "nbformat_minor": 5
}
